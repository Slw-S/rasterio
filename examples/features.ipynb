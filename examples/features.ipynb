{
 "metadata": {
  "name": "",
  "signature": "sha256:226eb42f053d4da563e4614eb832e56a383e6b4911e98a702ffb7155200d3c9d"
 },
 "nbformat": 3,
 "nbformat_minor": 0,
 "worksheets": [
  {
   "cells": [
    {
     "cell_type": "markdown",
     "metadata": {},
     "source": [
      "# Interacting with raster features\n",
      "\n",
      "A raster feature is a continguous region of like pixels. Rasterio permits extraction of features into a vector data representation and the reverse operation, \"burning\" vector data into a raster or image."
     ]
    },
    {
     "cell_type": "markdown",
     "metadata": {},
     "source": [
      "## Extracting features"
     ]
    },
    {
     "cell_type": "markdown",
     "metadata": {},
     "source": [
      "## Rasterizing features\n",
      "\n",
      "Given a source of GeoJSON-like geometry objects or objects that provide the Python Geo Interface, you can \"burn\" these into a raster dataset."
     ]
    },
    {
     "cell_type": "code",
     "collapsed": false,
     "input": [
      "from rasterio.transform import Affine"
     ],
     "language": "python",
     "metadata": {},
     "outputs": [],
     "prompt_number": 14
    },
    {
     "cell_type": "code",
     "collapsed": false,
     "input": [
      "def transform_from_corner(ulx, uly, dx, dy):\n",
      "    return Affine.translation(ulx, uly)*Affine.scale(dx, -dy)\n",
      "\n",
      "print transform_from_corner(bounds[0], bounds[3], 1.0/3600, 1.0/3600).to_gdal()"
     ],
     "language": "python",
     "metadata": {},
     "outputs": [
      {
       "output_type": "stream",
       "stream": "stdout",
       "text": [
        "(119.52, 0.0002777777777777778, 0.0, -20.5, 0.0, -0.0002777777777777778)\n"
       ]
      }
     ],
     "prompt_number": 15
    },
    {
     "cell_type": "code",
     "collapsed": false,
     "input": [
      "from rasterio.features import rasterize\n",
      "from shapely.geometry import Polygon, mapping\n",
      "\n",
      "# image transform\n",
      "bounds = (119.52, -21.6, 120.90, -20.5)\n",
      "transform = transform_from_corner(bounds[0], bounds[3], 1.0/3600, 1.0/3600)\n",
      "\n",
      "# Make raster image, burn in vector data which lies completely inside the bounding box\n",
      "poly = Polygon(((120, -21), (120.5, -21), (120.5, -21.2), (120, -21.2)))\n",
      "output = rasterize([poly], transform=transform, out_shape=(3961, 4969))\n",
      "print output"
     ],
     "language": "python",
     "metadata": {},
     "outputs": [
      {
       "output_type": "stream",
       "stream": "stdout",
       "text": [
        "[[0 0 0 ..., 0 0 0]\n",
        " [0 0 0 ..., 0 0 0]\n",
        " [0 0 0 ..., 0 0 0]\n",
        " ..., \n",
        " [0 0 0 ..., 0 0 0]\n",
        " [0 0 0 ..., 0 0 0]\n",
        " [0 0 0 ..., 0 0 0]]\n"
       ]
      }
     ],
     "prompt_number": 16
    },
    {
     "cell_type": "code",
     "collapsed": false,
     "input": [
      "%matplotlib inline"
     ],
     "language": "python",
     "metadata": {},
     "outputs": [],
     "prompt_number": 17
    },
    {
     "cell_type": "code",
     "collapsed": false,
     "input": [
      "import matplotlib.pyplot as plt"
     ],
     "language": "python",
     "metadata": {},
     "outputs": [],
     "prompt_number": 18
    },
    {
     "cell_type": "code",
     "collapsed": false,
     "input": [
      "plt.imshow(output)"
     ],
     "language": "python",
     "metadata": {},
     "outputs": [
      {
       "metadata": {},
       "output_type": "pyout",
       "prompt_number": 19,
       "text": [
        "<matplotlib.image.AxesImage at 0x1245e5550>"
       ]
      },
      {
       "metadata": {},
       "output_type": "display_data",
       "png": "[encoded data removed]",
       "text": [
        "<matplotlib.figure.Figure at 0x10f2f9990>"
       ]
      }
     ],
     "prompt_number": 19
    },
    {
     "cell_type": "code",
     "collapsed": false,
     "input": [
      "import json\n",
      "\n",
      "output = rasterize([json.dumps(mapping(poly))], transform=transform, out_shape=(3961, 4969))\n",
      "print output"
     ],
     "language": "python",
     "metadata": {},
     "outputs": [
      {
       "output_type": "stream",
       "stream": "stderr",
       "text": [
        "ERROR:rasterio:Geometry '{\"type\": \"Polygon\", \"coordinates\": [[[120.0, -21.0], [120.5, -21.0], [120.5, -21.2], [120.0, -21.2], [120.0, -21.0]]]}' at index 0 with value 255 skipped\n"
       ]
      }
     ]
    },
    {
     "cell_type": "code",
     "collapsed": false,
     "input": [],
     "language": "python",
     "metadata": {},
     "outputs": []
    }
   ],
   "metadata": {}
  }
 ]
}